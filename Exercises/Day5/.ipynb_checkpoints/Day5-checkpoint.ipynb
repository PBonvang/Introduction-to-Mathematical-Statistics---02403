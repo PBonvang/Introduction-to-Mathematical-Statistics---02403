{
 "cells": [
  {
   "cell_type": "markdown",
   "metadata": {},
   "source": [
    "# E3.1"
   ]
  },
  {
   "cell_type": "code",
   "execution_count": 23,
   "metadata": {},
   "outputs": [
    {
     "data": {
      "text/html": [
       "'Sample mean:'"
      ],
      "text/latex": [
       "'Sample mean:'"
      ],
      "text/markdown": [
       "'Sample mean:'"
      ],
      "text/plain": [
       "[1] \"Sample mean:\""
      ]
     },
     "metadata": {},
     "output_type": "display_data"
    },
    {
     "data": {
      "text/html": [
       "3002.33333333333"
      ],
      "text/latex": [
       "3002.33333333333"
      ],
      "text/markdown": [
       "3002.33333333333"
      ],
      "text/plain": [
       "[1] 3002.333"
      ]
     },
     "metadata": {},
     "output_type": "display_data"
    },
    {
     "data": {
      "text/html": [
       "'Sample Sd:'"
      ],
      "text/latex": [
       "'Sample Sd:'"
      ],
      "text/markdown": [
       "'Sample Sd:'"
      ],
      "text/plain": [
       "[1] \"Sample Sd:\""
      ]
     },
     "metadata": {},
     "output_type": "display_data"
    },
    {
     "data": {
      "text/html": [
       "3.70809924354783"
      ],
      "text/latex": [
       "3.70809924354783"
      ],
      "text/markdown": [
       "3.70809924354783"
      ],
      "text/plain": [
       "[1] 3.708099"
      ]
     },
     "metadata": {},
     "output_type": "display_data"
    },
    {
     "data": {
      "text/html": [
       "3.70809924354783"
      ],
      "text/latex": [
       "3.70809924354783"
      ],
      "text/markdown": [
       "3.70809924354783"
      ],
      "text/plain": [
       "[1] 3.708099"
      ]
     },
     "metadata": {},
     "output_type": "display_data"
    },
    {
     "data": {
      "text/html": [
       "'Standard error of the mean:'"
      ],
      "text/latex": [
       "'Standard error of the mean:'"
      ],
      "text/markdown": [
       "'Standard error of the mean:'"
      ],
      "text/plain": [
       "[1] \"Standard error of the mean:\""
      ]
     },
     "metadata": {},
     "output_type": "display_data"
    },
    {
     "data": {
      "text/html": [
       "1.23603308118261"
      ],
      "text/latex": [
       "1.23603308118261"
      ],
      "text/markdown": [
       "1.23603308118261"
      ],
      "text/plain": [
       "[1] 1.236033"
      ]
     },
     "metadata": {},
     "output_type": "display_data"
    }
   ],
   "source": [
    "mu = 3000\n",
    "x = c(3003,3005,2997,3006,2999,2998,3007,3005,3001)\n",
    "n = length(x)\n",
    "\n",
    "s_mean = mean(x)\n",
    "\"Sample mean:\";  s_mean\n",
    "\n",
    "var_sum = 0\n",
    "for (e in x) {\n",
    "    var_sum = var_sum + (e-s_mean)^2\n",
    "}\n",
    "s_var = var_sum/(n-1)\n",
    "s_sd = sqrt(s_var)\n",
    "\"Sample Sd:\"; s_sd\n",
    "sd(x)\n",
    "\n",
    "s_error = s_sd/sqrt(n)\n",
    "\"Standard error of the mean:\"; s_error"
   ]
  },
  {
   "cell_type": "markdown",
   "metadata": {},
   "source": [
    "**Intepretation:**  \n",
    "It means that the mean of the sample is 3002 and has a standard deviation of 3.7 which means most items will be within $\\pm$ 3.7*3 of the mean.\n",
    "The standard error gives the average difference between the sample mean and the true mean, which in this case is approx 1.24.\n",
    "The difference betwwen sample standard deviation and standard error, is that sd determines the range which the true mean is in, and standard error says that with the sample size of 9, the sample mean on average be 1.24 from true mean."
   ]
  },
  {
   "cell_type": "code",
   "execution_count": 22,
   "metadata": {},
   "outputs": [
    {
     "data": {
      "text/html": [
       "<table class=\"dataframe\">\n",
       "<caption>A matrix: 6 × 5 of type dbl</caption>\n",
       "<tbody>\n",
       "\t<tr><td>3002.966</td><td>2997.791</td><td>3001.011</td><td>3000.327</td><td>2999.681</td></tr>\n",
       "\t<tr><td>3003.926</td><td>3001.126</td><td>3001.852</td><td>2996.543</td><td>3000.745</td></tr>\n",
       "\t<tr><td>3001.107</td><td>3003.216</td><td>3003.077</td><td>2997.960</td><td>2996.269</td></tr>\n",
       "\t<tr><td>3002.621</td><td>3000.786</td><td>2999.498</td><td>2999.405</td><td>2999.534</td></tr>\n",
       "\t<tr><td>2998.064</td><td>2997.930</td><td>3003.023</td><td>2998.330</td><td>2999.532</td></tr>\n",
       "\t<tr><td>3002.751</td><td>3002.122</td><td>3002.718</td><td>3000.017</td><td>2997.924</td></tr>\n",
       "</tbody>\n",
       "</table>\n"
      ],
      "text/latex": [
       "A matrix: 6 × 5 of type dbl\n",
       "\\begin{tabular}{lllll}\n",
       "\t 3002.966 & 2997.791 & 3001.011 & 3000.327 & 2999.681\\\\\n",
       "\t 3003.926 & 3001.126 & 3001.852 & 2996.543 & 3000.745\\\\\n",
       "\t 3001.107 & 3003.216 & 3003.077 & 2997.960 & 2996.269\\\\\n",
       "\t 3002.621 & 3000.786 & 2999.498 & 2999.405 & 2999.534\\\\\n",
       "\t 2998.064 & 2997.930 & 3003.023 & 2998.330 & 2999.532\\\\\n",
       "\t 3002.751 & 3002.122 & 3002.718 & 3000.017 & 2997.924\\\\\n",
       "\\end{tabular}\n"
      ],
      "text/markdown": [
       "\n",
       "A matrix: 6 × 5 of type dbl\n",
       "\n",
       "| 3002.966 | 2997.791 | 3001.011 | 3000.327 | 2999.681 |\n",
       "| 3003.926 | 3001.126 | 3001.852 | 2996.543 | 3000.745 |\n",
       "| 3001.107 | 3003.216 | 3003.077 | 2997.960 | 2996.269 |\n",
       "| 3002.621 | 3000.786 | 2999.498 | 2999.405 | 2999.534 |\n",
       "| 2998.064 | 2997.930 | 3003.023 | 2998.330 | 2999.532 |\n",
       "| 3002.751 | 3002.122 | 3002.718 | 3000.017 | 2997.924 |\n",
       "\n"
      ],
      "text/plain": [
       "     [,1]     [,2]     [,3]     [,4]     [,5]    \n",
       "[1,] 3002.966 2997.791 3001.011 3000.327 2999.681\n",
       "[2,] 3003.926 3001.126 3001.852 2996.543 3000.745\n",
       "[3,] 3001.107 3003.216 3003.077 2997.960 2996.269\n",
       "[4,] 3002.621 3000.786 2999.498 2999.405 2999.534\n",
       "[5,] 2998.064 2997.930 3003.023 2998.330 2999.532\n",
       "[6,] 3002.751 3002.122 3002.718 3000.017 2997.924"
      ]
     },
     "metadata": {},
     "output_type": "display_data"
    },
    {
     "data": {
      "text/html": [
       "<style>\n",
       ".list-inline {list-style: none; margin:0; padding: 0}\n",
       ".list-inline>li {display: inline-block}\n",
       ".list-inline>li:not(:last-child)::after {content: \"\\00b7\"; padding: 0 .5ex}\n",
       "</style>\n",
       "<ol class=list-inline><li>15001.7757217375</li><li>15004.191589444</li><li>15001.6289563772</li><li>15001.843799813</li><li>14996.8794372474</li><li>15005.5309369963</li></ol>\n"
      ],
      "text/latex": [
       "\\begin{enumerate*}\n",
       "\\item 15001.7757217375\n",
       "\\item 15004.191589444\n",
       "\\item 15001.6289563772\n",
       "\\item 15001.843799813\n",
       "\\item 14996.8794372474\n",
       "\\item 15005.5309369963\n",
       "\\end{enumerate*}\n"
      ],
      "text/markdown": [
       "1. 15001.7757217375\n",
       "2. 15004.191589444\n",
       "3. 15001.6289563772\n",
       "4. 15001.843799813\n",
       "5. 14996.8794372474\n",
       "6. 15005.5309369963\n",
       "\n",
       "\n"
      ],
      "text/plain": [
       "[1] 15001.78 15004.19 15001.63 15001.84 14996.88 15005.53"
      ]
     },
     "metadata": {},
     "output_type": "display_data"
    },
    {
     "data": {
      "text/html": [
       "0.1426"
      ],
      "text/latex": [
       "0.1426"
      ],
      "text/markdown": [
       "0.1426"
      ],
      "text/plain": [
       "[1] 0.1426"
      ]
     },
     "metadata": {},
     "output_type": "display_data"
    },
    {
     "data": {
      "text/html": [
       "0.136037128114144"
      ],
      "text/latex": [
       "0.136037128114144"
      ],
      "text/markdown": [
       "0.136037128114144"
      ],
      "text/plain": [
       "[1] 0.1360371"
      ]
     },
     "metadata": {},
     "output_type": "display_data"
    }
   ],
   "source": [
    "# b)\n",
    "sigma = 3\n",
    "mu = 3000\n",
    "\n",
    "## Simulation\n",
    "k = 10000\n",
    "x = replicate(5, rnorm(k, mean = mu, sd = sigma))\n",
    "head(x)\n",
    "\n",
    "y = rowSums(x)\n",
    "head(y)\n",
    "mean(abs(y - y_mu) > 10)\n",
    "\n",
    "## Theory\n",
    "y_mu = mu*5\n",
    "y_sd = sqrt(sigma^2*5)\n",
    "\n",
    "2*(1-pnorm(y_mu+10, y_mu, y_sd))\n"
   ]
  },
  {
   "cell_type": "markdown",
   "metadata": {},
   "source": [
    "which means 13 - 14 percent of the time the construction is beyond 1cm of the target."
   ]
  },
  {
   "cell_type": "code",
   "execution_count": 31,
   "metadata": {},
   "outputs": [
    {
     "data": {
      "text/html": [
       "<style>\n",
       ".list-inline {list-style: none; margin:0; padding: 0}\n",
       ".list-inline>li {display: inline-block}\n",
       ".list-inline>li:not(:last-child)::after {content: \"\\00b7\"; padding: 0 .5ex}\n",
       "</style>\n",
       "<ol class=list-inline><li>2999.48303593688</li><li>3005.18363072979</li></ol>\n"
      ],
      "text/latex": [
       "\\begin{enumerate*}\n",
       "\\item 2999.48303593688\n",
       "\\item 3005.18363072979\n",
       "\\end{enumerate*}\n"
      ],
      "text/markdown": [
       "1. 2999.48303593688\n",
       "2. 3005.18363072979\n",
       "\n",
       "\n"
      ],
      "text/plain": [
       "[1] 2999.483 3005.184"
      ]
     },
     "metadata": {},
     "output_type": "display_data"
    },
    {
     "data": {
      "text/plain": [
       "\n",
       "\tOne Sample t-test\n",
       "\n",
       "data:  x\n",
       "t = 2429, df = 8, p-value < 2.2e-16\n",
       "alternative hypothesis: true mean is not equal to 0\n",
       "95 percent confidence interval:\n",
       " 2999.483 3005.184\n",
       "sample estimates:\n",
       "mean of x \n",
       " 3002.333 \n"
      ]
     },
     "metadata": {},
     "output_type": "display_data"
    }
   ],
   "source": [
    "# c)\n",
    "alpha = 0.05\n",
    "tval = qt(1-alpha/2, n-1)\n",
    "\n",
    "s_mean + c(-1,1)*tval*s_error\n",
    "\n",
    "## R\n",
    "t.test(x)\n"
   ]
  },
  {
   "cell_type": "code",
   "execution_count": 36,
   "metadata": {},
   "outputs": [
    {
     "data": {
      "text/html": [
       "<style>\n",
       ".list-inline {list-style: none; margin:0; padding: 0}\n",
       ".list-inline>li {display: inline-block}\n",
       ".list-inline>li:not(:last-child)::after {content: \"\\00b7\"; padding: 0 .5ex}\n",
       "</style>\n",
       "<ol class=list-inline><li>2998.18596359162</li><li>3006.48070307504</li></ol>\n"
      ],
      "text/latex": [
       "\\begin{enumerate*}\n",
       "\\item 2998.18596359162\n",
       "\\item 3006.48070307504\n",
       "\\end{enumerate*}\n"
      ],
      "text/markdown": [
       "1. 2998.18596359162\n",
       "2. 3006.48070307504\n",
       "\n",
       "\n"
      ],
      "text/plain": [
       "[1] 2998.186 3006.481"
      ]
     },
     "metadata": {},
     "output_type": "display_data"
    }
   ],
   "source": [
    "# d)\n",
    "alpha = 0.01\n",
    "tval = qt(1-alpha/2, n-1)\n",
    "\n",
    "s_mean + c(-1,1)*tval*s_error\n",
    "\n",
    "## R\n",
    "#t.test(x, conf.level = 0.99)"
   ]
  },
  {
   "cell_type": "markdown",
   "metadata": {},
   "source": [
    "As we need to be more confident in our interval the higher confidence interval has a broader range."
   ]
  },
  {
   "cell_type": "code",
   "execution_count": 45,
   "metadata": {},
   "outputs": [
    {
     "data": {
      "text/html": [
       "<style>\n",
       ".list-inline {list-style: none; margin:0; padding: 0}\n",
       ".list-inline>li {display: inline-block}\n",
       ".list-inline>li:not(:last-child)::after {content: \"\\00b7\"; padding: 0 .5ex}\n",
       "</style>\n",
       "<ol class=list-inline><li>17.5345461394846</li><li>2.17973074725265</li></ol>\n"
      ],
      "text/latex": [
       "\\begin{enumerate*}\n",
       "\\item 17.5345461394846\n",
       "\\item 2.17973074725265\n",
       "\\end{enumerate*}\n"
      ],
      "text/markdown": [
       "1. 17.5345461394846\n",
       "2. 2.17973074725265\n",
       "\n",
       "\n"
      ],
      "text/plain": [
       "[1] 17.534546  2.179731"
      ]
     },
     "metadata": {},
     "output_type": "display_data"
    },
    {
     "data": {
      "text/html": [
       "<style>\n",
       ".list-inline {list-style: none; margin:0; padding: 0}\n",
       ".list-inline>li {display: inline-block}\n",
       ".list-inline>li:not(:last-child)::after {content: \"\\00b7\"; padding: 0 .5ex}\n",
       "</style>\n",
       "<ol class=list-inline><li>6.27333032317841</li><li>50.4649485440552</li></ol>\n"
      ],
      "text/latex": [
       "\\begin{enumerate*}\n",
       "\\item 6.27333032317841\n",
       "\\item 50.4649485440552\n",
       "\\end{enumerate*}\n"
      ],
      "text/markdown": [
       "1. 6.27333032317841\n",
       "2. 50.4649485440552\n",
       "\n",
       "\n"
      ],
      "text/plain": [
       "[1]  6.27333 50.46495"
      ]
     },
     "metadata": {},
     "output_type": "display_data"
    },
    {
     "data": {
      "text/html": [
       "<style>\n",
       ".list-inline {list-style: none; margin:0; padding: 0}\n",
       ".list-inline>li {display: inline-block}\n",
       ".list-inline>li:not(:last-child)::after {content: \"\\00b7\"; padding: 0 .5ex}\n",
       "</style>\n",
       "<ol class=list-inline><li>2.50466171831216</li><li>7.10386856185102</li></ol>\n"
      ],
      "text/latex": [
       "\\begin{enumerate*}\n",
       "\\item 2.50466171831216\n",
       "\\item 7.10386856185102\n",
       "\\end{enumerate*}\n"
      ],
      "text/markdown": [
       "1. 2.50466171831216\n",
       "2. 7.10386856185102\n",
       "\n",
       "\n"
      ],
      "text/plain": [
       "[1] 2.504662 7.103869"
      ]
     },
     "metadata": {},
     "output_type": "display_data"
    }
   ],
   "source": [
    "# e)\n",
    "alpha = 0.05\n",
    "cvals = qchisq(p=c(1-alpha/2, alpha/2), df=n-1)\n",
    "cvals\n",
    "\n",
    "var_range = (n-1)*s_var/cvals\n",
    "var_range\n",
    "\n",
    "sd_range = sqrt(var_range)\n",
    "sd_range"
   ]
  },
  {
   "cell_type": "code",
   "execution_count": 46,
   "metadata": {},
   "outputs": [
    {
     "data": {
      "text/html": [
       "<style>\n",
       ".list-inline {list-style: none; margin:0; padding: 0}\n",
       ".list-inline>li {display: inline-block}\n",
       ".list-inline>li:not(:last-child)::after {content: \"\\00b7\"; padding: 0 .5ex}\n",
       "</style>\n",
       "<ol class=list-inline><li>21.9549549906595</li><li>1.34441308701481</li></ol>\n"
      ],
      "text/latex": [
       "\\begin{enumerate*}\n",
       "\\item 21.9549549906595\n",
       "\\item 1.34441308701481\n",
       "\\end{enumerate*}\n"
      ],
      "text/markdown": [
       "1. 21.9549549906595\n",
       "2. 1.34441308701481\n",
       "\n",
       "\n"
      ],
      "text/plain": [
       "[1] 21.954955  1.344413"
      ]
     },
     "metadata": {},
     "output_type": "display_data"
    },
    {
     "data": {
      "text/html": [
       "<style>\n",
       ".list-inline {list-style: none; margin:0; padding: 0}\n",
       ".list-inline>li {display: inline-block}\n",
       ".list-inline>li:not(:last-child)::after {content: \"\\00b7\"; padding: 0 .5ex}\n",
       "</style>\n",
       "<ol class=list-inline><li>5.01025850641908</li><li>81.8200901660728</li></ol>\n"
      ],
      "text/latex": [
       "\\begin{enumerate*}\n",
       "\\item 5.01025850641908\n",
       "\\item 81.8200901660728\n",
       "\\end{enumerate*}\n"
      ],
      "text/markdown": [
       "1. 5.01025850641908\n",
       "2. 81.8200901660728\n",
       "\n",
       "\n"
      ],
      "text/plain": [
       "[1]  5.010259 81.820090"
      ]
     },
     "metadata": {},
     "output_type": "display_data"
    },
    {
     "data": {
      "text/html": [
       "<style>\n",
       ".list-inline {list-style: none; margin:0; padding: 0}\n",
       ".list-inline>li {display: inline-block}\n",
       ".list-inline>li:not(:last-child)::after {content: \"\\00b7\"; padding: 0 .5ex}\n",
       "</style>\n",
       "<ol class=list-inline><li>2.2383606738904</li><li>9.04544582461654</li></ol>\n"
      ],
      "text/latex": [
       "\\begin{enumerate*}\n",
       "\\item 2.2383606738904\n",
       "\\item 9.04544582461654\n",
       "\\end{enumerate*}\n"
      ],
      "text/markdown": [
       "1. 2.2383606738904\n",
       "2. 9.04544582461654\n",
       "\n",
       "\n"
      ],
      "text/plain": [
       "[1] 2.238361 9.045446"
      ]
     },
     "metadata": {},
     "output_type": "display_data"
    }
   ],
   "source": [
    "# f)\n",
    "alpha = 0.01\n",
    "cvals = qchisq(p=c(1-alpha/2, alpha/2), df=n-1)\n",
    "cvals\n",
    "\n",
    "var_range = (n-1)*s_var/cvals\n",
    "var_range\n",
    "\n",
    "sd_range = sqrt(var_range)\n",
    "sd_range"
   ]
  },
  {
   "cell_type": "markdown",
   "metadata": {},
   "source": [
    "# E3.2"
   ]
  },
  {
   "cell_type": "code",
   "execution_count": 48,
   "metadata": {},
   "outputs": [
    {
     "data": {
      "text/html": [
       "<style>\n",
       ".list-inline {list-style: none; margin:0; padding: 0}\n",
       ".list-inline>li {display: inline-block}\n",
       ".list-inline>li:not(:last-child)::after {content: \"\\00b7\"; padding: 0 .5ex}\n",
       "</style>\n",
       "<ol class=list-inline><li>180.007970617722</li><li>180.092029382278</li></ol>\n"
      ],
      "text/latex": [
       "\\begin{enumerate*}\n",
       "\\item 180.007970617722\n",
       "\\item 180.092029382278\n",
       "\\end{enumerate*}\n"
      ],
      "text/markdown": [
       "1. 180.007970617722\n",
       "2. 180.092029382278\n",
       "\n",
       "\n"
      ],
      "text/plain": [
       "[1] 180.008 180.092"
      ]
     },
     "metadata": {},
     "output_type": "display_data"
    },
    {
     "data": {
      "text/plain": [
       "\n",
       "\tOne Sample t-test\n",
       "\n",
       "data:  x\n",
       "t = 7508.6, df = 15, p-value < 2.2e-16\n",
       "alternative hypothesis: true mean is not equal to 0\n",
       "90 percent confidence interval:\n",
       " 180.008 180.092\n",
       "sample estimates:\n",
       "mean of x \n",
       "   180.05 \n"
      ]
     },
     "metadata": {},
     "output_type": "display_data"
    }
   ],
   "source": [
    "x = c(180.02, 180.00, 180.01, 179.97, 179.92, 180.05, 179.94, 180.10,\n",
    "180.24, 180.12, 180.13, 180.22, 179.96, 180.10, 179.96, 180.06)\n",
    "n = 16\n",
    "\n",
    "# a\n",
    "s_mu = 180.05\n",
    "s_sd = 0.0959\n",
    "\n",
    "sd_error = s_sd/sqrt(n)\n",
    "\n",
    "alpha = 0.1\n",
    "c_val = qt(1-alpha/2,df = n-1)\n",
    "\n",
    "s_mu + c(-1,1)*c_val*sd_error\n",
    "\n",
    "## or\n",
    "t.test(x, conf.level= 0.9)"
   ]
  },
  {
   "cell_type": "code",
   "execution_count": 51,
   "metadata": {},
   "outputs": [
    {
     "data": {
      "text/html": [
       "<style>\n",
       ".list-inline {list-style: none; margin:0; padding: 0}\n",
       ".list-inline>li {display: inline-block}\n",
       ".list-inline>li:not(:last-child)::after {content: \"\\00b7\"; padding: 0 .5ex}\n",
       "</style>\n",
       "<ol class=list-inline><li>0.00420568889556885</li><li>0.0299836299643743</li></ol>\n"
      ],
      "text/latex": [
       "\\begin{enumerate*}\n",
       "\\item 0.00420568889556885\n",
       "\\item 0.0299836299643743\n",
       "\\end{enumerate*}\n"
      ],
      "text/markdown": [
       "1. 0.00420568889556885\n",
       "2. 0.0299836299643743\n",
       "\n",
       "\n"
      ],
      "text/plain": [
       "[1] 0.004205689 0.029983630"
      ]
     },
     "metadata": {},
     "output_type": "display_data"
    },
    {
     "data": {
      "text/html": [
       "<style>\n",
       ".list-inline {list-style: none; margin:0; padding: 0}\n",
       ".list-inline>li {display: inline-block}\n",
       ".list-inline>li:not(:last-child)::after {content: \"\\00b7\"; padding: 0 .5ex}\n",
       "</style>\n",
       "<ol class=list-inline><li>0.0648512829138241</li><li>0.173157818086202</li></ol>\n"
      ],
      "text/latex": [
       "\\begin{enumerate*}\n",
       "\\item 0.0648512829138241\n",
       "\\item 0.173157818086202\n",
       "\\end{enumerate*}\n"
      ],
      "text/markdown": [
       "1. 0.0648512829138241\n",
       "2. 0.173157818086202\n",
       "\n",
       "\n"
      ],
      "text/plain": [
       "[1] 0.06485128 0.17315782"
      ]
     },
     "metadata": {},
     "output_type": "display_data"
    }
   ],
   "source": [
    "# b)\n",
    "alpha = 0.01\n",
    "c_vals = qchisq(p=c(1-alpha/2, alpha/2), df=n-1)\n",
    "\n",
    "var_range = (n-1)*s_sd^2/c_vals\n",
    "var_range\n",
    "\n",
    "sd_range = sqrt(var_range)\n",
    "sd_range"
   ]
  },
  {
   "cell_type": "markdown",
   "metadata": {},
   "source": [
    "# E3.3"
   ]
  },
  {
   "cell_type": "code",
   "execution_count": 55,
   "metadata": {},
   "outputs": [
    {
     "data": {
      "text/plain": [
       "\n",
       "\tOne Sample t-test\n",
       "\n",
       "data:  x\n",
       "t = 1.8878, df = 8, p-value = 0.09576\n",
       "alternative hypothesis: true mean is not equal to 3000\n",
       "95 percent confidence interval:\n",
       " 2999.483 3005.184\n",
       "sample estimates:\n",
       "mean of x \n",
       " 3002.333 \n"
      ]
     },
     "metadata": {},
     "output_type": "display_data"
    }
   ],
   "source": [
    "mu = 3000\n",
    "x = c(3003,3005,2997,3006,2999,2998,3007,3005,3001)\n",
    "n = length(x)\n",
    "\n",
    "# a)\n",
    "t.test(x, mu = mu)"
   ]
  },
  {
   "cell_type": "markdown",
   "metadata": {},
   "source": [
    "There's weak evidence against the null hypothesis, it's therefore likely that the true mean is actually 3000."
   ]
  },
  {
   "cell_type": "code",
   "execution_count": 56,
   "metadata": {},
   "outputs": [
    {
     "data": {
      "text/html": [
       "3.3553873313334"
      ],
      "text/latex": [
       "3.3553873313334"
      ],
      "text/markdown": [
       "3.3553873313334"
      ],
      "text/plain": [
       "[1] 3.355387"
      ]
     },
     "metadata": {},
     "output_type": "display_data"
    }
   ],
   "source": [
    "# b)\n",
    "qt(0.995, df = n-1)"
   ]
  },
  {
   "cell_type": "code",
   "execution_count": 58,
   "metadata": {},
   "outputs": [
    {
     "data": {
      "text/html": [
       "<style>\n",
       ".list-inline {list-style: none; margin:0; padding: 0}\n",
       ".list-inline>li {display: inline-block}\n",
       ".list-inline>li:not(:last-child)::after {content: \"\\00b7\"; padding: 0 .5ex}\n",
       "</style>\n",
       "<ol class=list-inline><li>-2.30600413520417</li><li>2.30600413520417</li></ol>\n"
      ],
      "text/latex": [
       "\\begin{enumerate*}\n",
       "\\item -2.30600413520417\n",
       "\\item 2.30600413520417\n",
       "\\end{enumerate*}\n"
      ],
      "text/markdown": [
       "1. -2.30600413520417\n",
       "2. 2.30600413520417\n",
       "\n",
       "\n"
      ],
      "text/plain": [
       "[1] -2.306004  2.306004"
      ]
     },
     "metadata": {},
     "output_type": "display_data"
    }
   ],
   "source": [
    "# c)\n",
    "alpha = 0.05\n",
    "c(-1,1)*qt(1-alpha/2, df = n-1)\n"
   ]
  },
  {
   "cell_type": "markdown",
   "metadata": {},
   "source": [
    "For a lower confidence level, we have a smaller range which makes sense"
   ]
  },
  {
   "cell_type": "markdown",
   "metadata": {},
   "source": [
    "# E3.4"
   ]
  },
  {
   "cell_type": "code",
   "execution_count": 59,
   "metadata": {},
   "outputs": [
    {
     "data": {
      "text/plain": [
       "\n",
       "\tOne Sample t-test\n",
       "\n",
       "data:  x\n",
       "t = 2.0851, df = 15, p-value = 0.05456\n",
       "alternative hypothesis: true mean is not equal to 180\n",
       "95 percent confidence interval:\n",
       " 179.9989 180.1011\n",
       "sample estimates:\n",
       "mean of x \n",
       "   180.05 \n"
      ]
     },
     "metadata": {},
     "output_type": "display_data"
    }
   ],
   "source": [
    "x = c(180.02, 180.00, 180.01, 179.97, 179.92, 180.05, 179.94, 180.10,\n",
    "180.24, 180.12, 180.13, 180.22, 179.96, 180.10, 179.96, 180.06)\n",
    "n = length(x)\n",
    "\n",
    "# a)\n",
    "t.test(x,mu = 180)"
   ]
  },
  {
   "cell_type": "code",
   "execution_count": 60,
   "metadata": {},
   "outputs": [
    {
     "data": {
      "text/html": [
       "0.83224138102049"
      ],
      "text/latex": [
       "0.83224138102049"
      ],
      "text/markdown": [
       "0.83224138102049"
      ],
      "text/plain": [
       "[1] 0.8322414"
      ]
     },
     "metadata": {},
     "output_type": "display_data"
    }
   ],
   "source": [
    "# b)\n",
    "pt(0.995,df = n-1)"
   ]
  },
  {
   "cell_type": "code",
   "execution_count": 61,
   "metadata": {},
   "outputs": [
    {
     "data": {
      "text/plain": [
       "\n",
       "\tOne Sample t-test\n",
       "\n",
       "data:  x\n",
       "t = 2.0851, df = 15, p-value = 0.05456\n",
       "alternative hypothesis: true mean is not equal to 180\n",
       "99 percent confidence interval:\n",
       " 179.9793 180.1207\n",
       "sample estimates:\n",
       "mean of x \n",
       "   180.05 \n"
      ]
     },
     "metadata": {},
     "output_type": "display_data"
    }
   ],
   "source": [
    "# c)\n",
    "t.test(x, mu = 180, conf.level = 0.99)"
   ]
  },
  {
   "cell_type": "code",
   "execution_count": 62,
   "metadata": {},
   "outputs": [
    {
     "data": {
      "text/plain": [
       "\n",
       "\tOne Sample t-test\n",
       "\n",
       "data:  x\n",
       "t = 2.0851, df = 15, p-value = 0.05456\n",
       "alternative hypothesis: true mean is not equal to 180\n",
       "95 percent confidence interval:\n",
       " 179.9989 180.1011\n",
       "sample estimates:\n",
       "mean of x \n",
       "   180.05 \n"
      ]
     },
     "metadata": {},
     "output_type": "display_data"
    }
   ],
   "source": [
    "# d)\n",
    "t.test(x, mu = 180)"
   ]
  },
  {
   "cell_type": "markdown",
   "metadata": {},
   "source": [
    "# Test 5"
   ]
  },
  {
   "cell_type": "code",
   "execution_count": 7,
   "metadata": {},
   "outputs": [
    {
     "data": {
      "text/html": [
       "-2.31083937998412"
      ],
      "text/latex": [
       "-2.31083937998412"
      ],
      "text/markdown": [
       "-2.31083937998412"
      ],
      "text/plain": [
       "[1] -2.310839"
      ]
     },
     "metadata": {},
     "output_type": "display_data"
    },
    {
     "data": {
      "text/html": [
       "0.0688351673605134"
      ],
      "text/latex": [
       "0.0688351673605134"
      ],
      "text/markdown": [
       "0.0688351673605134"
      ],
      "text/plain": [
       "[1] 0.06883517"
      ]
     },
     "metadata": {},
     "output_type": "display_data"
    }
   ],
   "source": [
    "# 1\n",
    "s_mu = 44.6\n",
    "s = 0.424\n",
    "mu = 45\n",
    "n = 6\n",
    "\n",
    "t_obs = (s_mu-mu)/(s/sqrt(n))\n",
    "t_obs\n",
    "pval = 2*(1-pt(abs(t_obs), df=n-1))\n",
    "pval"
   ]
  },
  {
   "cell_type": "code",
   "execution_count": 8,
   "metadata": {},
   "outputs": [
    {
     "data": {
      "text/html": [
       "0.168609293214104"
      ],
      "text/latex": [
       "0.168609293214104"
      ],
      "text/markdown": [
       "0.168609293214104"
      ],
      "text/plain": [
       "[1] 0.1686093"
      ]
     },
     "metadata": {},
     "output_type": "display_data"
    }
   ],
   "source": [
    "# 2\n",
    "n = 20\n",
    "theta = 1/4\n",
    "a = 6\n",
    "\n",
    "dbinom(6, 20, 1/4)"
   ]
  },
  {
   "cell_type": "code",
   "execution_count": 15,
   "metadata": {},
   "outputs": [
    {
     "data": {
      "text/html": [
       "9.5959595959596"
      ],
      "text/latex": [
       "9.5959595959596"
      ],
      "text/markdown": [
       "9.5959595959596"
      ],
      "text/plain": [
       "[1] 9.59596"
      ]
     },
     "metadata": {},
     "output_type": "display_data"
    }
   ],
   "source": [
    "# 3\n",
    "k = 1000\n",
    "x = replicate(10, 2)\n",
    "x = append(x, replicate(25, 4))\n",
    "x = append(x, replicate(30,7))\n",
    "x = append(x, replicate(25,10))\n",
    "x = append(x, replicate(10,12))\n",
    "\n",
    "var(x)"
   ]
  },
  {
   "cell_type": "code",
   "execution_count": 20,
   "metadata": {},
   "outputs": [
    {
     "data": {
      "text/html": [
       "6.20850822016142"
      ],
      "text/latex": [
       "6.20850822016142"
      ],
      "text/markdown": [
       "6.20850822016142"
      ],
      "text/plain": [
       "[1] 6.208508"
      ]
     },
     "metadata": {},
     "output_type": "display_data"
    },
    {
     "data": {
      "text/html": [
       "2.01174051372977"
      ],
      "text/latex": [
       "2.01174051372977"
      ],
      "text/markdown": [
       "2.01174051372977"
      ],
      "text/plain": [
       "[1] 2.011741"
      ]
     },
     "metadata": {},
     "output_type": "display_data"
    },
    {
     "data": {
      "text/html": [
       "1.30053193991841e-07"
      ],
      "text/latex": [
       "1.30053193991841e-07"
      ],
      "text/markdown": [
       "1.30053193991841e-07"
      ],
      "text/plain": [
       "[1] 1.300532e-07"
      ]
     },
     "metadata": {},
     "output_type": "display_data"
    }
   ],
   "source": [
    "# 4\n",
    "n = 48\n",
    "s_mu = 1.363\n",
    "s = 1.521\n",
    "\n",
    "tobs = (s_mu - 0)/(s/sqrt(n))\n",
    "tobs\n",
    "qt(0.975,df=n-1)"
   ]
  }
 ],
 "metadata": {
  "kernelspec": {
   "display_name": "R",
   "language": "R",
   "name": "ir"
  },
  "language_info": {
   "codemirror_mode": "r",
   "file_extension": ".r",
   "mimetype": "text/x-r-source",
   "name": "R",
   "pygments_lexer": "r",
   "version": "4.2.0"
  }
 },
 "nbformat": 4,
 "nbformat_minor": 4
}
