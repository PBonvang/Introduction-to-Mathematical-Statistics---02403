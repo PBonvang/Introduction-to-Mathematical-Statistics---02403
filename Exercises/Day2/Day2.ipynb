{
 "cells": [
  {
   "cell_type": "markdown",
   "metadata": {},
   "source": [
    "# E2.1"
   ]
  },
  {
   "cell_type": "markdown",
   "metadata": {},
   "source": [
    "## a)\n",
    "It's the binomial distribution\n",
    "$$\n",
    "P(X=k \\mid \\theta)=\\left(\\begin{array}{l}\n",
    "n \\\\\n",
    "k\n",
    "\\end{array}\\right)\\cdot(1-\\theta)^{n-k}\\cdot \\theta^{k}\n",
    "$$\n",
    "\n",
    "Where k = 4, n=10 and the success rate is 0.6.\n",
    "The result is the probability of 4 successes in 10 draws giving a 60% success rate"
   ]
  },
  {
   "cell_type": "markdown",
   "metadata": {},
   "source": [
    "## c)\n",
    "The distribution is Poisson.  \n",
    "And 0.168 is the probability of 3 events happening in the duration of the rate variable given as 4."
   ]
  },
  {
   "cell_type": "markdown",
   "metadata": {},
   "source": [
    "## d)\n",
    "$P(X\\le5)=$ `ppois(5, 3)`  \n",
    "$P(X < 5)=$ `ppois(4, 3)`  \n",
    "$P(X\\le5)=1-$ `ppois(4 ,3)`  \n",
    "$P(X = 5)=$ `ppois(5,3)-ppois(4,3)`"
   ]
  },
  {
   "cell_type": "markdown",
   "metadata": {},
   "source": [
    "# E2.4"
   ]
  },
  {
   "cell_type": "markdown",
   "metadata": {},
   "source": [
    "It seems like a Hyper distribution:  \n",
    "N = 20  \n",
    "n = 3  \n",
    "a = 6"
   ]
  },
  {
   "cell_type": "code",
   "execution_count": 1,
   "metadata": {
    "vscode": {
     "languageId": "r"
    }
   },
   "outputs": [
    {
     "data": {
      "text/html": [
       "0.319298245614035"
      ],
      "text/latex": [
       "0.319298245614035"
      ],
      "text/markdown": [
       "0.319298245614035"
      ],
      "text/plain": [
       "[1] 0.3192982"
      ]
     },
     "metadata": {},
     "output_type": "display_data"
    }
   ],
   "source": [
    "dhyper(0, m=6, n=20-6, k=3)"
   ]
  },
  {
   "cell_type": "markdown",
   "metadata": {},
   "source": [
    "# E2.5: Hay delivery quality"
   ]
  },
  {
   "cell_type": "markdown",
   "metadata": {},
   "source": [
    "## a)"
   ]
  },
  {
   "cell_type": "code",
   "execution_count": 66,
   "metadata": {
    "vscode": {
     "languageId": "r"
    }
   },
   "outputs": [
    {
     "data": {
      "text/html": [
       "'mu='"
      ],
      "text/latex": [
       "'mu='"
      ],
      "text/markdown": [
       "'mu='"
      ],
      "text/plain": [
       "[1] \"mu=\""
      ]
     },
     "metadata": {},
     "output_type": "display_data"
    },
    {
     "data": {
      "text/html": [
       "0.3"
      ],
      "text/latex": [
       "0.3"
      ],
      "text/markdown": [
       "0.3"
      ],
      "text/plain": [
       "[1] 0.3"
      ]
     },
     "metadata": {},
     "output_type": "display_data"
    },
    {
     "data": {
      "text/html": [
       "'sigma^2='"
      ],
      "text/latex": [
       "'sigma\\textasciicircum{}2='"
      ],
      "text/markdown": [
       "'sigma^2='"
      ],
      "text/plain": [
       "[1] \"sigma^2=\""
      ]
     },
     "metadata": {},
     "output_type": "display_data"
    },
    {
     "data": {
      "text/html": [
       "0.241578947368421"
      ],
      "text/latex": [
       "0.241578947368421"
      ],
      "text/markdown": [
       "0.241578947368421"
      ],
      "text/plain": [
       "[1] 0.2415789"
      ]
     },
     "metadata": {},
     "output_type": "display_data"
    },
    {
     "data": {
      "text/html": [
       "'P(X&gt;=1)='"
      ],
      "text/latex": [
       "'P(X>=1)='"
      ],
      "text/markdown": [
       "'P(X&gt;=1)='"
      ],
      "text/plain": [
       "[1] \"P(X>=1)=\""
      ]
     },
     "metadata": {},
     "output_type": "display_data"
    },
    {
     "data": {
      "text/html": [
       "0.28421052631579"
      ],
      "text/latex": [
       "0.28421052631579"
      ],
      "text/markdown": [
       "0.28421052631579"
      ],
      "text/plain": [
       "[1] 0.2842105"
      ]
     },
     "metadata": {},
     "output_type": "display_data"
    }
   ],
   "source": [
    "N <- 20\n",
    "n <- 3\n",
    "a <- 2\n",
    "\n",
    "\"mu=\"\n",
    "n*a/N\n",
    "\n",
    "\"sigma^2=\"\n",
    "n*a*(N-a)*(N-n)/(N^2*(N-1))\n",
    "\n",
    "\"P(X>=1)=\"\n",
    "1-phyper(0,a,N-a,n)"
   ]
  },
  {
   "cell_type": "markdown",
   "metadata": {},
   "source": [
    "## b)"
   ]
  },
  {
   "cell_type": "code",
   "execution_count": 67,
   "metadata": {
    "vscode": {
     "languageId": "r"
    }
   },
   "outputs": [
    {
     "data": {
      "text/html": [
       "0.904382075008805"
      ],
      "text/latex": [
       "0.904382075008805"
      ],
      "text/markdown": [
       "0.904382075008805"
      ],
      "text/plain": [
       "[1] 0.9043821"
      ]
     },
     "metadata": {},
     "output_type": "display_data"
    },
    {
     "data": {
      "text/html": [
       "0.3486784401"
      ],
      "text/latex": [
       "0.3486784401"
      ],
      "text/markdown": [
       "0.3486784401"
      ],
      "text/plain": [
       "[1] 0.3486784"
      ]
     },
     "metadata": {},
     "output_type": "display_data"
    }
   ],
   "source": [
    "n <- 10\n",
    "r_1 <- 0.01\n",
    "r_10 <- 0.1\n",
    "\n",
    "dbinom(0, size = n, prob = r_1)\n",
    "dbinom(0, size = n, prob = r_10)"
   ]
  },
  {
   "cell_type": "markdown",
   "metadata": {},
   "source": [
    "# E2.6"
   ]
  },
  {
   "cell_type": "code",
   "execution_count": 4,
   "metadata": {
    "vscode": {
     "languageId": "r"
    }
   },
   "outputs": [
    {
     "data": {
      "text/html": [
       "'mu='"
      ],
      "text/latex": [
       "'mu='"
      ],
      "text/markdown": [
       "'mu='"
      ],
      "text/plain": [
       "[1] \"mu=\""
      ]
     },
     "metadata": {},
     "output_type": "display_data"
    },
    {
     "data": {
      "text/html": [
       "0.9"
      ],
      "text/latex": [
       "0.9"
      ],
      "text/markdown": [
       "0.9"
      ],
      "text/plain": [
       "[1] 0.9"
      ]
     },
     "metadata": {},
     "output_type": "display_data"
    },
    {
     "data": {
      "text/html": [
       "'sigma^2='"
      ],
      "text/latex": [
       "'sigma\\textasciicircum{}2='"
      ],
      "text/markdown": [
       "'sigma^2='"
      ],
      "text/plain": [
       "[1] \"sigma^2=\""
      ]
     },
     "metadata": {},
     "output_type": "display_data"
    },
    {
     "data": {
      "text/html": [
       "0.563684210526316"
      ],
      "text/latex": [
       "0.563684210526316"
      ],
      "text/markdown": [
       "0.563684210526316"
      ],
      "text/plain": [
       "[1] 0.5636842"
      ]
     },
     "metadata": {},
     "output_type": "display_data"
    }
   ],
   "source": [
    "N <- 20\n",
    "n <- 3\n",
    "a <- 6\n",
    "\n",
    "\"mu=\"\n",
    "n*a/N\n",
    "\n",
    "\"sigma^2=\"\n",
    "n*a*(N-a)*(N-n)/(N^2*(N-1))"
   ]
  },
  {
   "cell_type": "markdown",
   "metadata": {},
   "source": [
    "# E2.7 A fully automated production"
   ]
  },
  {
   "cell_type": "markdown",
   "metadata": {},
   "source": [
    "## a)"
   ]
  },
  {
   "cell_type": "code",
   "execution_count": 6,
   "metadata": {
    "vscode": {
     "languageId": "r"
    }
   },
   "outputs": [
    {
     "data": {
      "text/html": [
       "0.00604029111158133"
      ],
      "text/latex": [
       "0.00604029111158133"
      ],
      "text/markdown": [
       "0.00604029111158133"
      ],
      "text/plain": [
       "[1] 0.006040291"
      ]
     },
     "metadata": {},
     "output_type": "display_data"
    }
   ],
   "source": [
    "lambda <- 1.6\n",
    "\n",
    "1 - ppois(5, lambda)"
   ]
  },
  {
   "cell_type": "markdown",
   "metadata": {},
   "source": [
    "## b)"
   ]
  },
  {
   "cell_type": "code",
   "execution_count": 7,
   "metadata": {
    "vscode": {
     "languageId": "r"
    }
   },
   "outputs": [
    {
     "data": {
      "text/html": [
       "0.592547341437591"
      ],
      "text/latex": [
       "0.592547341437591"
      ],
      "text/markdown": [
       "0.592547341437591"
      ],
      "text/plain": [
       "[1] 0.5925473"
      ]
     },
     "metadata": {},
     "output_type": "display_data"
    }
   ],
   "source": [
    "lambda_5 <- lambda * 5\n",
    "\n",
    "ppois(8, lambda_5)"
   ]
  },
  {
   "cell_type": "markdown",
   "metadata": {},
   "source": [
    "# E2.8"
   ]
  },
  {
   "cell_type": "markdown",
   "metadata": {},
   "source": [
    "## a)"
   ]
  },
  {
   "cell_type": "code",
   "execution_count": 8,
   "metadata": {
    "vscode": {
     "languageId": "r"
    }
   },
   "outputs": [
    {
     "data": {
      "text/html": [
       "0.124781215032525"
      ],
      "text/latex": [
       "0.124781215032525"
      ],
      "text/markdown": [
       "0.124781215032525"
      ],
      "text/plain": [
       "[1] 0.1247812"
      ]
     },
     "metadata": {},
     "output_type": "display_data"
    }
   ],
   "source": [
    "lambda_hour <- 180\n",
    "lambda_5min <- lambda_hour / 12\n",
    "\n",
    "1 - ppois(19, lambda_5min)"
   ]
  },
  {
   "cell_type": "markdown",
   "metadata": {},
   "source": [
    "## b)"
   ]
  },
  {
   "cell_type": "code",
   "execution_count": 48,
   "metadata": {
    "vscode": {
     "languageId": "r"
    }
   },
   "outputs": [
    {
     "data": {
      "text/html": [
       "25"
      ],
      "text/latex": [
       "25"
      ],
      "text/markdown": [
       "25"
      ],
      "text/plain": [
       "[1] 25"
      ]
     },
     "metadata": {},
     "output_type": "display_data"
    },
    {
     "data": {
      "text/html": [
       "0.993815096188733"
      ],
      "text/latex": [
       "0.993815096188733"
      ],
      "text/markdown": [
       "0.993815096188733"
      ],
      "text/plain": [
       "[1] 0.9938151"
      ]
     },
     "metadata": {},
     "output_type": "display_data"
    }
   ],
   "source": [
    "cap_99 <- qpois(0.99, lambda_5min)\n",
    "cap_99\n",
    "ppois(cap_99, lambda_5min)"
   ]
  },
  {
   "cell_type": "markdown",
   "metadata": {},
   "source": [
    "# Test quiz 2"
   ]
  },
  {
   "cell_type": "markdown",
   "metadata": {},
   "source": [
    "# Q1"
   ]
  },
  {
   "cell_type": "code",
   "execution_count": 9,
   "metadata": {
    "vscode": {
     "languageId": "r"
    }
   },
   "outputs": [
    {
     "data": {
      "text/html": [
       "0.952923556844203"
      ],
      "text/latex": [
       "0.952923556844203"
      ],
      "text/markdown": [
       "0.952923556844203"
      ],
      "text/plain": [
       "[1] 0.9529236"
      ]
     },
     "metadata": {},
     "output_type": "display_data"
    }
   ],
   "source": [
    "pbinom(2,200,0.004)"
   ]
  },
  {
   "cell_type": "markdown",
   "metadata": {},
   "source": [
    "## Q3"
   ]
  },
  {
   "cell_type": "code",
   "execution_count": 21,
   "metadata": {
    "vscode": {
     "languageId": "r"
    }
   },
   "outputs": [
    {
     "data": {
      "text/html": [
       "0.301194211912202"
      ],
      "text/latex": [
       "0.301194211912202"
      ],
      "text/markdown": [
       "0.301194211912202"
      ],
      "text/plain": [
       "[1] 0.3011942"
      ]
     },
     "metadata": {},
     "output_type": "display_data"
    },
    {
     "data": {
      "text/html": [
       "0.135335283236613"
      ],
      "text/latex": [
       "0.135335283236613"
      ],
      "text/markdown": [
       "0.135335283236613"
      ],
      "text/plain": [
       "[1] 0.1353353"
      ]
     },
     "metadata": {},
     "output_type": "display_data"
    },
    {
     "data": {
      "text/html": [
       "0.113333829359329"
      ],
      "text/latex": [
       "0.113333829359329"
      ],
      "text/markdown": [
       "0.113333829359329"
      ],
      "text/plain": [
       "[1] 0.1133338"
      ]
     },
     "metadata": {},
     "output_type": "display_data"
    }
   ],
   "source": [
    "dpois(0,1.2)\n",
    "dpois(0,2)\n",
    "\n",
    "mu <- 1.2\n",
    "1 - ppois(7, 4*mu)"
   ]
  },
  {
   "cell_type": "markdown",
   "metadata": {},
   "source": [
    "## Q4"
   ]
  },
  {
   "cell_type": "code",
   "execution_count": 23,
   "metadata": {
    "vscode": {
     "languageId": "r"
    }
   },
   "outputs": [
    {
     "data": {
      "text/html": [
       "0.666666666666667"
      ],
      "text/latex": [
       "0.666666666666667"
      ],
      "text/markdown": [
       "0.666666666666667"
      ],
      "text/plain": [
       "[1] 0.6666667"
      ]
     },
     "metadata": {},
     "output_type": "display_data"
    },
    {
     "data": {
      "text/html": [
       "0.388888888888889"
      ],
      "text/latex": [
       "0.388888888888889"
      ],
      "text/markdown": [
       "0.388888888888889"
      ],
      "text/plain": [
       "[1] 0.3888889"
      ]
     },
     "metadata": {},
     "output_type": "display_data"
    }
   ],
   "source": [
    "n <- 3\n",
    "a <- 2\n",
    "N <- 9\n",
    "\n",
    "mu <- n*a/N\n",
    "mu\n",
    "\n",
    "var <- n*a*(N-a)*(N-n)/(N^2*(N-1))\n",
    "var"
   ]
  },
  {
   "cell_type": "markdown",
   "metadata": {},
   "source": [
    "## Q5"
   ]
  },
  {
   "cell_type": "code",
   "execution_count": 53,
   "metadata": {
    "vscode": {
     "languageId": "r"
    }
   },
   "outputs": [
    {
     "data": {
      "text/html": [
       "0.0476190476190476"
      ],
      "text/latex": [
       "0.0476190476190476"
      ],
      "text/markdown": [
       "0.0476190476190476"
      ],
      "text/plain": [
       "[1] 0.04761905"
      ]
     },
     "metadata": {},
     "output_type": "display_data"
    },
    {
     "data": {
      "text/html": [
       "0.0476190476190476"
      ],
      "text/latex": [
       "0.0476190476190476"
      ],
      "text/markdown": [
       "0.0476190476190476"
      ],
      "text/plain": [
       "[1] 0.04761905"
      ]
     },
     "metadata": {},
     "output_type": "display_data"
    },
    {
     "data": {
      "text/html": [
       "0.285714285714286"
      ],
      "text/latex": [
       "0.285714285714286"
      ],
      "text/markdown": [
       "0.285714285714286"
      ],
      "text/plain": [
       "[1] 0.2857143"
      ]
     },
     "metadata": {},
     "output_type": "display_data"
    },
    {
     "data": {
      "text/html": [
       "0.285714285714286"
      ],
      "text/latex": [
       "0.285714285714286"
      ],
      "text/markdown": [
       "0.285714285714286"
      ],
      "text/plain": [
       "[1] 0.2857143"
      ]
     },
     "metadata": {},
     "output_type": "display_data"
    }
   ],
   "source": [
    "n <- 3\n",
    "a <- 4\n",
    "N <- 9\n",
    "\n",
    "p1 <- dhyper(3, m=a, n=N-a,k=n)\n",
    "p1\n",
    "1/21\n",
    "\n",
    "p2 <- choose(a, 1) * # Reports\n",
    "        choose(2, 1) * # Stat ex\n",
    "        choose(3, 1) * # Math\n",
    "        1/choose(N,n)\n",
    "        \n",
    "p2\n",
    "6/21\n"
   ]
  },
  {
   "cell_type": "markdown",
   "metadata": {},
   "source": [
    "## Q6"
   ]
  },
  {
   "cell_type": "code",
   "execution_count": 57,
   "metadata": {
    "vscode": {
     "languageId": "r"
    }
   },
   "outputs": [
    {
     "data": {
      "text/html": [
       "2.99573227355399"
      ],
      "text/latex": [
       "2.99573227355399"
      ],
      "text/markdown": [
       "2.99573227355399"
      ],
      "text/plain": [
       "[1] 2.995732"
      ]
     },
     "metadata": {},
     "output_type": "display_data"
    },
    {
     "data": {
      "text/html": [
       "0.0834882871468635"
      ],
      "text/latex": [
       "0.0834882871468635"
      ],
      "text/markdown": [
       "0.0834882871468635"
      ],
      "text/plain": [
       "[1] 0.08348829"
      ]
     },
     "metadata": {},
     "output_type": "display_data"
    }
   ],
   "source": [
    "mu <- -log(0.05)\n",
    "mu\n",
    "\n",
    "1 - ppois(5,mu)"
   ]
  }
 ],
 "metadata": {
  "interpreter": {
   "hash": "90b70941c61a0165c13fc6e858e45d395cbaba385e418f19f2f3d400f7361205"
  },
  "kernelspec": {
   "display_name": "R",
   "language": "R",
   "name": "ir"
  },
  "language_info": {
   "codemirror_mode": "r",
   "file_extension": ".r",
   "mimetype": "text/x-r-source",
   "name": "R",
   "pygments_lexer": "r",
   "version": "4.2.0"
  }
 },
 "nbformat": 4,
 "nbformat_minor": 4
}
